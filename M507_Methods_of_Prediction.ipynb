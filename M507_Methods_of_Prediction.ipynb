{
  "nbformat": 4,
  "nbformat_minor": 0,
  "metadata": {
    "colab": {
      "provenance": [],
      "authorship_tag": "ABX9TyO/Dk0aQhZJDofsMOtuS8uS",
      "include_colab_link": true
    },
    "kernelspec": {
      "name": "python3",
      "display_name": "Python 3"
    },
    "language_info": {
      "name": "python"
    }
  },
  "cells": [
    {
      "cell_type": "markdown",
      "metadata": {
        "id": "view-in-github",
        "colab_type": "text"
      },
      "source": [
        "<a href=\"https://colab.research.google.com/github/mehelisinha/EDA-Assessment/blob/main/M507_Methods_of_Prediction.ipynb\" target=\"_parent\"><img src=\"https://colab.research.google.com/assets/colab-badge.svg\" alt=\"Open In Colab\"/></a>"
      ]
    },
    {
      "cell_type": "markdown",
      "source": [
        "##**HR Employee Attrition Prediction using Neural Networks (Keras)**"
      ],
      "metadata": {
        "id": "YwJHI--qbu1g"
      }
    },
    {
      "cell_type": "markdown",
      "source": [
        "**Title:** Machine Learning Pipeline for HR Employee Attrition Prediction using Neural Networks (Keras).\n",
        "\n",
        "**Student id:** GH1039518\n",
        "\n",
        "**Author:** Meheli  Sinha  \n",
        "\n",
        "**Course/Module:** M507 Methods of Prediction"
      ],
      "metadata": {
        "id": "QSgjFiz4b3mL"
      }
    },
    {
      "cell_type": "markdown",
      "source": [
        "##**1. Introduction of the Business Context**\n",
        "### Client Overview\n",
        "The HR department needs to identify high-risk employees for proactive engagement and reduce hiring/training costs."
      ],
      "metadata": {
        "id": "77ve5mgpcMN-"
      }
    },
    {
      "cell_type": "markdown",
      "source": [
        "###**Business Problem**\n",
        "Employee attrition leads to significant losses in productivity, morale, and rehiring/training costs. The company wants to proactively identify employees likely to leave by using historical HR data. By building a predictive model using machine learning, the HR department can flag high-risk individuals and take timely action to retain them, improving overall workforce stability and reducing operational disruptions."
      ],
      "metadata": {
        "id": "uiRuzXv5ciUC"
      }
    },
    {
      "cell_type": "markdown",
      "source": [
        "###**Business Benefits:**\n",
        "- Reduce employee turnover costs.\n",
        "- Increase workforce stability and productivity.\n",
        "- Better HR planning using predictive insights."
      ],
      "metadata": {
        "id": "UcxakOJLc3t2"
      }
    },
    {
      "cell_type": "markdown",
      "source": [
        "###**Data Collection**\n",
        "The dataset is collected from Kaggle (https://www.kaggle.com/datasets/pavansubhasht/ibm-hr-analytics-attrition-dataset/data)"
      ],
      "metadata": {
        "id": "Mdfnmsy4dL9b"
      }
    },
    {
      "cell_type": "markdown",
      "source": [
        "###**Sample data Overview**\n",
        "The dataset, HR-Employee-Attrition.csv, contains detailed HR information about 1,470 employees. It includes both numerical and categorical variables such as:\n",
        "\n",
        "- Demographics: Age, Gender, Marital Status\n",
        "\n",
        "- Job-related: Department, Job Role, Job Level, Years at Company\n",
        "\n",
        "- Performance & Satisfaction: Job Satisfaction, Environment Satisfaction, Performance Rating\n",
        "\n",
        "- Compensation & Benefits: Monthly Income, Stock Option Level, Distance from Home\n",
        "\n",
        "- Work Behavior: Overtime, Business Travel, Work-Life Balance"
      ],
      "metadata": {
        "id": "aSojABdIdn-I"
      }
    },
    {
      "cell_type": "markdown",
      "source": [
        "###**Formulating as a Machine Learning Task**\n",
        "The task is framed as a is a binary classification task.\n",
        "\n",
        "- Attrition (Yes=1, No=0)\n",
        "- Model: Dense Neural Network using Keras"
      ],
      "metadata": {
        "id": "a94N289NfGV8"
      }
    },
    {
      "cell_type": "markdown",
      "source": [
        "###**Importing the required libraries**"
      ],
      "metadata": {
        "id": "YiP8xYVYgpQS"
      }
    },
    {
      "cell_type": "code",
      "execution_count": 1,
      "metadata": {
        "id": "V-AVghZ5vB57"
      },
      "outputs": [],
      "source": [
        "import pandas as pd\n",
        "import numpy as np\n",
        "import matplotlib.pyplot as plt\n",
        "import seaborn as sns\n",
        "from sklearn.model_selection import train_test_split\n",
        "from sklearn.preprocessing import StandardScaler, LabelEncoder\n",
        "import tensorflow as tf\n",
        "from tensorflow import keras"
      ]
    },
    {
      "cell_type": "markdown",
      "source": [
        "###**Fetching and viewing Data**"
      ],
      "metadata": {
        "id": "PIxIvsMzg9jO"
      }
    },
    {
      "cell_type": "code",
      "source": [
        "hr = pd.read_csv(\"HR-Employee-Attrition.csv\")\n",
        "print(hr.shape)\n",
        "print(hr['Attrition'].value_counts())\n",
        "hr.sample(5)"
      ],
      "metadata": {
        "id": "-sD9XL3ShMv4"
      },
      "execution_count": null,
      "outputs": []
    }
  ]
}