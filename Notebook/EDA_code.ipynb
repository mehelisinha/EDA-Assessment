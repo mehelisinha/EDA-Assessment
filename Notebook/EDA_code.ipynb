{
 "cells": [
  {
   "cell_type": "markdown",
   "metadata": {},
   "source": [
    "Importing libraries"
   ]
  },
  {
   "cell_type": "code",
   "execution_count": 58,
   "metadata": {},
   "outputs": [],
   "source": [
    "import pandas as pd\n",
    "import numpy as np\n",
    "import os\n",
    "import matplotlib.pyplot as plt\n",
    "import seaborn as sns"
   ]
  },
  {
   "cell_type": "markdown",
   "metadata": {},
   "source": [
    "Setting file paths"
   ]
  },
  {
   "cell_type": "code",
   "execution_count": 59,
   "metadata": {},
   "outputs": [],
   "source": [
    "raw_data_path = r\"C:\\Users\\chand\\Python_Project\\EDA-Assessment\\data\\Product_DataSet.csv\"\n",
    "cleaned_data_path = r\"C:\\Users\\chand\\Python_Project\\EDA-Assessment\\data\\cleaned_Product_DataSet.csv\"\n",
    "visuals_folder = r\"C:\\Users\\chand\\Python_Project\\EDA-Assessment\\visuals\"\n",
    "\n",
    "os.makedirs(visuals_folder, exist_ok=True)"
   ]
  },
  {
   "cell_type": "markdown",
   "metadata": {},
   "source": [
    "Loading and exploring the dataset"
   ]
  },
  {
   "cell_type": "code",
   "execution_count": 60,
   "metadata": {},
   "outputs": [
    {
     "name": "stdout",
     "output_type": "stream",
     "text": [
      "Dataset Overview:\n",
      "<class 'pandas.core.frame.DataFrame'>\n",
      "RangeIndex: 4566 entries, 0 to 4565\n",
      "Data columns (total 11 columns):\n",
      " #   Column        Non-Null Count  Dtype \n",
      "---  ------        --------------  ----- \n",
      " 0   S.No          4566 non-null   int64 \n",
      " 1   BrandName     4566 non-null   object\n",
      " 2   Product ID    4566 non-null   object\n",
      " 3   Product Name  4566 non-null   object\n",
      " 4   Brand Desc    4566 non-null   object\n",
      " 5   Product Size  4566 non-null   object\n",
      " 6   Currancy      4566 non-null   object\n",
      " 7   MRP           4553 non-null   object\n",
      " 8   SellPrice     4566 non-null   int64 \n",
      " 9   Discount      4566 non-null   object\n",
      " 10  Category      4566 non-null   object\n",
      "dtypes: int64(2), object(9)\n",
      "memory usage: 392.5+ KB\n",
      "None\n",
      "Shape of dataset\n",
      "(4566, 11)\n"
     ]
    }
   ],
   "source": [
    "df = pd.read_csv(raw_data_path)\n",
    "\n",
    "print(\"Dataset Overview:\")\n",
    "print(df.info())\n",
    "print(\"Shape of dataset\")\n",
    "print(df.shape)"
   ]
  },
  {
   "cell_type": "markdown",
   "metadata": {},
   "source": [
    "View first few data"
   ]
  },
  {
   "cell_type": "code",
   "execution_count": 61,
   "metadata": {},
   "outputs": [
    {
     "name": "stdout",
     "output_type": "stream",
     "text": [
      "   S.No BrandName Product ID              Product Name  \\\n",
      "0     1      4711      FR001         Cologne Fragrance   \n",
      "1     2      109f       DRW1  DRW1 - Westernwear-Women   \n",
      "2     3      109f       DRW2  DRW2 - Westernwear-Women   \n",
      "3     4      109f       DRW3  DRW3 - Westernwear-Women   \n",
      "4     5      109f       DRW4  DRW4 - Westernwear-Women   \n",
      "\n",
      "                                     Brand Desc  \\\n",
      "0                     ekw eau de cologne 400 ml   \n",
      "1           womens v- neck short dress - yellow   \n",
      "2           womens round neck solid top - black   \n",
      "3    womens round neck stripe shift dress - red   \n",
      "4  womens round neck solid high low top - black   \n",
      "\n",
      "                         Product Size Currancy   MRP  SellPrice Discount  \\\n",
      "0                               Small      Rs.  3900       3120  20% off   \n",
      "1  Size:Medium,Small,X-Large,XX-Large      Rs.  1899        569  70% off   \n",
      "2     Size:Large,Medium,Small,X-Large      Rs.  1499        599  60% off   \n",
      "3                   Size:Medium,Small      Rs.  1599        639  60% off   \n",
      "4     Size:Large,Medium,Small,X-Large      Rs.  1199        479  60% off   \n",
      "\n",
      "            Category  \n",
      "0    Fragrance-Women  \n",
      "1  Westernwear-Women  \n",
      "2  Westernwear-Women  \n",
      "3  Westernwear-Women  \n",
      "4  Westernwear-Women  \n"
     ]
    }
   ],
   "source": [
    "print(df.head())"
   ]
  },
  {
   "cell_type": "markdown",
   "metadata": {},
   "source": [
    "Check for missing values and duplicate rows "
   ]
  },
  {
   "cell_type": "code",
   "execution_count": 62,
   "metadata": {},
   "outputs": [
    {
     "name": "stdout",
     "output_type": "stream",
     "text": [
      "S.No             0\n",
      "BrandName        0\n",
      "Product ID       0\n",
      "Product Name     0\n",
      "Brand Desc       0\n",
      "Product Size     0\n",
      "Currancy         0\n",
      "MRP             13\n",
      "SellPrice        0\n",
      "Discount         0\n",
      "Category         0\n",
      "dtype: int64\n",
      "\n",
      "No. of Duplicate Rows: 0\n"
     ]
    }
   ],
   "source": [
    "print(df.isnull().sum())\n",
    "duplicate_rows = df.duplicated().sum()\n",
    "print(f\"\\nNo. of Duplicate Rows: {duplicate_rows}\") "
   ]
  },
  {
   "cell_type": "markdown",
   "metadata": {},
   "source": [
    "Dropping columns which are not required "
   ]
  },
  {
   "cell_type": "code",
   "execution_count": 63,
   "metadata": {},
   "outputs": [
    {
     "name": "stdout",
     "output_type": "stream",
     "text": [
      "<bound method NDFrame.head of            BrandName        Product ID                          Product Name  \\\n",
      "0               4711             FR001                     Cologne Fragrance   \n",
      "1               109f              DRW1              DRW1 - Westernwear-Women   \n",
      "2               109f              DRW2              DRW2 - Westernwear-Women   \n",
      "3               109f              DRW3              DRW3 - Westernwear-Women   \n",
      "4               109f              DRW4              DRW4 - Westernwear-Women   \n",
      "...              ...               ...                                   ...   \n",
      "4561  crimsoune club   CRIMSOUNE CLUB6   CRIMSOUNE CLUB6 - Westernwear-Women   \n",
      "4562  crimsoune club   CRIMSOUNE CLUB7   CRIMSOUNE CLUB7 - Westernwear-Women   \n",
      "4563  crimsoune club   CRIMSOUNE CLUB8   CRIMSOUNE CLUB8 - Westernwear-Women   \n",
      "4564  crimsoune club   CRIMSOUNE CLUB9   CRIMSOUNE CLUB9 - Westernwear-Women   \n",
      "4565  crimsoune club  CRIMSOUNE CLUB10  CRIMSOUNE CLUB10 - Westernwear-Women   \n",
      "\n",
      "                                             Brand Desc  \\\n",
      "0                             ekw eau de cologne 400 ml   \n",
      "1                   womens v- neck short dress - yellow   \n",
      "2                   womens round neck solid top - black   \n",
      "3            womens round neck stripe shift dress - red   \n",
      "4          womens round neck solid high low top - black   \n",
      "...                                                 ...   \n",
      "4561  solid hood poly cotton womens sweatshirt - yellow   \n",
      "4562  striped v-neck cotton womens casual shirt - white   \n",
      "4563                  womens slim fit solid shirt - red   \n",
      "4564      printed lyocell round neck womens top - green   \n",
      "4565                 womens grey solid jumpsuit - denim   \n",
      "\n",
      "                                           Product Size Currancy   MRP  \\\n",
      "0                                                 Small      Rs.  3900   \n",
      "1                    Size:Medium,Small,X-Large,XX-Large      Rs.  1899   \n",
      "2                       Size:Large,Medium,Small,X-Large      Rs.  1499   \n",
      "3                                     Size:Medium,Small      Rs.  1599   \n",
      "4                       Size:Large,Medium,Small,X-Large      Rs.  1199   \n",
      "...                                                 ...      ...   ...   \n",
      "4561                    Size:Large,Medium,Small,X-Large      Rs.  1699   \n",
      "4562       Size:Large,Medium,X-Large,XX-Large,XXX-Large      Rs.  1299   \n",
      "4563                          Size:Large,Medium,X-Large      Rs.  1299   \n",
      "4564  Size:Large,Medium,Small,X-Large,XX-Large,XXX-L...      Rs.  1399   \n",
      "4565                 Size:Large,Medium,X-Large,XX-Large      Rs.  2499   \n",
      "\n",
      "      SellPrice Discount           Category  \n",
      "0          3120  20% off    Fragrance-Women  \n",
      "1           569  70% off  Westernwear-Women  \n",
      "2           599  60% off  Westernwear-Women  \n",
      "3           639  60% off  Westernwear-Women  \n",
      "4           479  60% off  Westernwear-Women  \n",
      "...         ...      ...                ...  \n",
      "4561        849  50% off  Westernwear-Women  \n",
      "4562       1039  20% off  Westernwear-Women  \n",
      "4563        649  50% off  Westernwear-Women  \n",
      "4564        979  30% off  Westernwear-Women  \n",
      "4565       1249  50% off  Westernwear-Women  \n",
      "\n",
      "[4566 rows x 10 columns]>\n"
     ]
    }
   ],
   "source": [
    "df=df.drop(columns=['S.No'])\n",
    "print(df.head)"
   ]
  },
  {
   "cell_type": "markdown",
   "metadata": {},
   "source": [
    "Handle the missing values of MRP by filling them with 0"
   ]
  },
  {
   "cell_type": "code",
   "execution_count": 64,
   "metadata": {},
   "outputs": [
    {
     "name": "stdout",
     "output_type": "stream",
     "text": [
      "\n",
      "Missing Values after Cleaning:\n",
      "BrandName       0\n",
      "Product ID      0\n",
      "Product Name    0\n",
      "Brand Desc      0\n",
      "Product Size    0\n",
      "Currancy        0\n",
      "MRP             0\n",
      "SellPrice       0\n",
      "Discount        0\n",
      "Category        0\n",
      "dtype: int64\n"
     ]
    }
   ],
   "source": [
    "df['MRP'] = df['MRP'].fillna(0)\n",
    "\n",
    "print(\"\\nMissing Values after Cleaning:\")\n",
    "print(df.isnull().sum())"
   ]
  },
  {
   "cell_type": "markdown",
   "metadata": {},
   "source": [
    "Convert MRP to numeric"
   ]
  },
  {
   "cell_type": "code",
   "execution_count": 65,
   "metadata": {},
   "outputs": [
    {
     "name": "stdout",
     "output_type": "stream",
     "text": [
      "<class 'pandas.core.frame.DataFrame'>\n",
      "RangeIndex: 4566 entries, 0 to 4565\n",
      "Data columns (total 10 columns):\n",
      " #   Column        Non-Null Count  Dtype  \n",
      "---  ------        --------------  -----  \n",
      " 0   BrandName     4566 non-null   object \n",
      " 1   Product ID    4566 non-null   object \n",
      " 2   Product Name  4566 non-null   object \n",
      " 3   Brand Desc    4566 non-null   object \n",
      " 4   Product Size  4566 non-null   object \n",
      " 5   Currancy      4566 non-null   object \n",
      " 6   MRP           4561 non-null   float64\n",
      " 7   SellPrice     4566 non-null   int64  \n",
      " 8   Discount      4566 non-null   object \n",
      " 9   Category      4566 non-null   object \n",
      "dtypes: float64(1), int64(1), object(8)\n",
      "memory usage: 356.8+ KB\n"
     ]
    }
   ],
   "source": [
    "df['MRP'] = pd.to_numeric(df['MRP'], errors='coerce')\n",
    "df.info()"
   ]
  },
  {
   "cell_type": "markdown",
   "metadata": {},
   "source": [
    "Clean discount column and remove '% off' from it"
   ]
  },
  {
   "cell_type": "code",
   "execution_count": 66,
   "metadata": {},
   "outputs": [],
   "source": [
    "df['Discount'] = df['Discount'].str.replace('% off', '').astype(float)"
   ]
  },
  {
   "cell_type": "markdown",
   "metadata": {},
   "source": [
    "Summary statistics"
   ]
  },
  {
   "cell_type": "code",
   "execution_count": 67,
   "metadata": {},
   "outputs": [
    {
     "data": {
      "text/html": [
       "<div>\n",
       "<style scoped>\n",
       "    .dataframe tbody tr th:only-of-type {\n",
       "        vertical-align: middle;\n",
       "    }\n",
       "\n",
       "    .dataframe tbody tr th {\n",
       "        vertical-align: top;\n",
       "    }\n",
       "\n",
       "    .dataframe thead th {\n",
       "        text-align: right;\n",
       "    }\n",
       "</style>\n",
       "<table border=\"1\" class=\"dataframe\">\n",
       "  <thead>\n",
       "    <tr style=\"text-align: right;\">\n",
       "      <th></th>\n",
       "      <th>MRP</th>\n",
       "      <th>SellPrice</th>\n",
       "      <th>Discount</th>\n",
       "    </tr>\n",
       "  </thead>\n",
       "  <tbody>\n",
       "    <tr>\n",
       "      <th>count</th>\n",
       "      <td>4561.000000</td>\n",
       "      <td>4566.000000</td>\n",
       "      <td>4566.000000</td>\n",
       "    </tr>\n",
       "    <tr>\n",
       "      <th>mean</th>\n",
       "      <td>1817.690156</td>\n",
       "      <td>2005.222733</td>\n",
       "      <td>29.991897</td>\n",
       "    </tr>\n",
       "    <tr>\n",
       "      <th>std</th>\n",
       "      <td>2280.088780</td>\n",
       "      <td>2259.614915</td>\n",
       "      <td>17.856129</td>\n",
       "    </tr>\n",
       "    <tr>\n",
       "      <th>min</th>\n",
       "      <td>0.000000</td>\n",
       "      <td>89.000000</td>\n",
       "      <td>5.000000</td>\n",
       "    </tr>\n",
       "    <tr>\n",
       "      <th>25%</th>\n",
       "      <td>8.900000</td>\n",
       "      <td>749.000000</td>\n",
       "      <td>10.000000</td>\n",
       "    </tr>\n",
       "    <tr>\n",
       "      <th>50%</th>\n",
       "      <td>1490.000000</td>\n",
       "      <td>1379.000000</td>\n",
       "      <td>30.000000</td>\n",
       "    </tr>\n",
       "    <tr>\n",
       "      <th>75%</th>\n",
       "      <td>2499.000000</td>\n",
       "      <td>2299.000000</td>\n",
       "      <td>50.000000</td>\n",
       "    </tr>\n",
       "    <tr>\n",
       "      <th>max</th>\n",
       "      <td>28495.000000</td>\n",
       "      <td>25995.000000</td>\n",
       "      <td>80.000000</td>\n",
       "    </tr>\n",
       "  </tbody>\n",
       "</table>\n",
       "</div>"
      ],
      "text/plain": [
       "                MRP     SellPrice     Discount\n",
       "count   4561.000000   4566.000000  4566.000000\n",
       "mean    1817.690156   2005.222733    29.991897\n",
       "std     2280.088780   2259.614915    17.856129\n",
       "min        0.000000     89.000000     5.000000\n",
       "25%        8.900000    749.000000    10.000000\n",
       "50%     1490.000000   1379.000000    30.000000\n",
       "75%     2499.000000   2299.000000    50.000000\n",
       "max    28495.000000  25995.000000    80.000000"
      ]
     },
     "metadata": {},
     "output_type": "display_data"
    }
   ],
   "source": [
    "display(df.describe())"
   ]
  },
  {
   "cell_type": "markdown",
   "metadata": {},
   "source": [
    "Save the cleaned dataset as a .csv file for powerBI visualisations"
   ]
  },
  {
   "cell_type": "code",
   "execution_count": 68,
   "metadata": {},
   "outputs": [
    {
     "name": "stdout",
     "output_type": "stream",
     "text": [
      "Cleaned dataset saved to C:\\Users\\chand\\Python_Project\\EDA-Assessment\\data\\cleaned_Product_DataSet.csv\n"
     ]
    }
   ],
   "source": [
    "df.to_csv(cleaned_data_path, index=False)\n",
    "print(f\"Cleaned dataset saved to {cleaned_data_path}\")"
   ]
  }
 ],
 "metadata": {
  "kernelspec": {
   "display_name": "Python 3",
   "language": "python",
   "name": "python3"
  },
  "language_info": {
   "codemirror_mode": {
    "name": "ipython",
    "version": 3
   },
   "file_extension": ".py",
   "mimetype": "text/x-python",
   "name": "python",
   "nbconvert_exporter": "python",
   "pygments_lexer": "ipython3",
   "version": "3.11.9"
  }
 },
 "nbformat": 4,
 "nbformat_minor": 2
}
