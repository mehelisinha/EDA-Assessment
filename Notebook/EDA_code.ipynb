{
 "cells": [
  {
   "cell_type": "markdown",
   "metadata": {},
   "source": [
    "Importing libraries"
   ]
  },
  {
   "cell_type": "code",
   "execution_count": 2,
   "metadata": {},
   "outputs": [],
   "source": [
    "import pandas as pd\n",
    "import numpy as np\n",
    "import os\n",
    "import matplotlib.pyplot as plt\n",
    "import seaborn as sns"
   ]
  },
  {
   "cell_type": "markdown",
   "metadata": {},
   "source": [
    "Setting file paths"
   ]
  },
  {
   "cell_type": "code",
   "execution_count": 3,
   "metadata": {},
   "outputs": [],
   "source": [
    "raw_data_path = r\"C:\\Users\\chand\\Python_Project\\EDA-Assessment\\data\\Product_DataSet.csv\"\n",
    "cleaned_data_path = r\"C:\\Users\\chand\\Python_Project\\EDA-Assessment\\data\\cleaned_Product_DataSet.csv\"\n",
    "visuals_folder = r\"C:\\Users\\chand\\Python_Project\\EDA-Assessment\\visuals\"\n",
    "\n",
    "os.makedirs(visuals_folder, exist_ok=True)"
   ]
  },
  {
   "cell_type": "markdown",
   "metadata": {},
   "source": [
    "Loading and exploring the dataset"
   ]
  },
  {
   "cell_type": "code",
   "execution_count": 4,
   "metadata": {},
   "outputs": [
    {
     "name": "stdout",
     "output_type": "stream",
     "text": [
      "Dataset Overview:\n",
      "<class 'pandas.core.frame.DataFrame'>\n",
      "RangeIndex: 4566 entries, 0 to 4565\n",
      "Data columns (total 11 columns):\n",
      " #   Column        Non-Null Count  Dtype \n",
      "---  ------        --------------  ----- \n",
      " 0   S.No          4566 non-null   int64 \n",
      " 1   BrandName     4566 non-null   object\n",
      " 2   Product ID    4566 non-null   object\n",
      " 3   Product Name  4566 non-null   object\n",
      " 4   Brand Desc    4566 non-null   object\n",
      " 5   Product Size  4566 non-null   object\n",
      " 6   Currancy      4566 non-null   object\n",
      " 7   MRP           4553 non-null   object\n",
      " 8   SellPrice     4566 non-null   int64 \n",
      " 9   Discount      4566 non-null   object\n",
      " 10  Category      4566 non-null   object\n",
      "dtypes: int64(2), object(9)\n",
      "memory usage: 392.5+ KB\n",
      "None\n",
      "Shape of dataset\n",
      "(4566, 11)\n"
     ]
    }
   ],
   "source": [
    "df = pd.read_csv(raw_data_path)\n",
    "\n",
    "print(\"Dataset Overview:\")\n",
    "print(df.info())\n",
    "print(\"Shape of dataset\")\n",
    "print(df.shape)"
   ]
  },
  {
   "cell_type": "markdown",
   "metadata": {},
   "source": [
    "View first few data"
   ]
  },
  {
   "cell_type": "code",
   "execution_count": 5,
   "metadata": {},
   "outputs": [
    {
     "name": "stdout",
     "output_type": "stream",
     "text": [
      "   S.No BrandName Product ID              Product Name  \\\n",
      "0     1      4711      FR001         Cologne Fragrance   \n",
      "1     2      109f       DRW1  DRW1 - Westernwear-Women   \n",
      "2     3      109f       DRW2  DRW2 - Westernwear-Women   \n",
      "3     4      109f       DRW3  DRW3 - Westernwear-Women   \n",
      "4     5      109f       DRW4  DRW4 - Westernwear-Women   \n",
      "\n",
      "                                     Brand Desc  \\\n",
      "0                     ekw eau de cologne 400 ml   \n",
      "1           womens v- neck short dress - yellow   \n",
      "2           womens round neck solid top - black   \n",
      "3    womens round neck stripe shift dress - red   \n",
      "4  womens round neck solid high low top - black   \n",
      "\n",
      "                         Product Size Currancy   MRP  SellPrice Discount  \\\n",
      "0                               Small      Rs.  3900       3120  20% off   \n",
      "1  Size:Medium,Small,X-Large,XX-Large      Rs.  1899        569  70% off   \n",
      "2     Size:Large,Medium,Small,X-Large      Rs.  1499        599  60% off   \n",
      "3                   Size:Medium,Small      Rs.  1599        639  60% off   \n",
      "4     Size:Large,Medium,Small,X-Large      Rs.  1199        479  60% off   \n",
      "\n",
      "            Category  \n",
      "0    Fragrance-Women  \n",
      "1  Westernwear-Women  \n",
      "2  Westernwear-Women  \n",
      "3  Westernwear-Women  \n",
      "4  Westernwear-Women  \n"
     ]
    }
   ],
   "source": [
    "print(df.head())"
   ]
  },
  {
   "cell_type": "markdown",
   "metadata": {},
   "source": [
    "Check for missing values and duplicate rows "
   ]
  },
  {
   "cell_type": "code",
   "execution_count": 7,
   "metadata": {},
   "outputs": [
    {
     "name": "stdout",
     "output_type": "stream",
     "text": [
      "S.No             0\n",
      "BrandName        0\n",
      "Product ID       0\n",
      "Product Name     0\n",
      "Brand Desc       0\n",
      "Product Size     0\n",
      "Currancy         0\n",
      "MRP             13\n",
      "SellPrice        0\n",
      "Discount         0\n",
      "Category         0\n",
      "dtype: int64\n",
      "\n",
      "No. of Duplicate Rows: 0\n"
     ]
    }
   ],
   "source": [
    "print(df.isnull().sum())\n",
    "duplicate_rows = df.duplicated().sum()\n",
    "print(f\"\\nNo. of Duplicate Rows: {duplicate_rows}\") "
   ]
  }
 ],
 "metadata": {
  "kernelspec": {
   "display_name": "Python 3",
   "language": "python",
   "name": "python3"
  },
  "language_info": {
   "codemirror_mode": {
    "name": "ipython",
    "version": 3
   },
   "file_extension": ".py",
   "mimetype": "text/x-python",
   "name": "python",
   "nbconvert_exporter": "python",
   "pygments_lexer": "ipython3",
   "version": "3.11.9"
  }
 },
 "nbformat": 4,
 "nbformat_minor": 2
}
